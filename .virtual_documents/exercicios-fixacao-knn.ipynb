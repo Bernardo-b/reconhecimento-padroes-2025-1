








import numpy as np
import matplotlib.pyplot as plt

np.random.seed(42)
nivel_mistura = 0.5
n_pontos_por_classe = 50
n_total = n_pontos_por_classe * 2

x = np.random.uniform(0, 1, n_total)
y = np.random.uniform(0, 1, n_total)

dist_11 = np.sqrt((x - 1)**2 + (y - 1)**2)
dist_00 = np.sqrt((x - 0)**2 + (y - 0)**2)

prob_classe_1 = (dist_00 - dist_11 + np.random.normal(0, nivel_mistura, n_total)) / 2

indices_ordenados = np.argsort(prob_classe_1)

labels = np.ones(n_total) * -1
labels[indices_ordenados[-n_pontos_por_classe:]] = 1

X = np.column_stack((x, y))
Y = labels


plt.figure(figsize=(8, 6))
plt.scatter(X[:, 0], X[:, 1], c=Y, cmap='bwr', marker='o')
plt.title('Dataset para KNN')
plt.xlabel('Feature X')
plt.ylabel('Feature Y')
plt.grid(True)
plt.show()











def knn(X, Y, xt, k):
    # calculando distancia entre xt e todos os outros pontos
    dist = (((X.T-xt).T)**2).sum(axis=1)
    # predição usando o sinal da soma dos k vizinhos mais próximos
    pred = np.sign(Y[dist.argsort()[:k]].sum())
    return pred


k = 9
xt = np.array([0.5, 0.5]).reshape(2,1)



knn(X, Y, xt, k)





k=3
results_coords = []
results_labels = []
for i in np.linspace(0, 1, 200):
    for j in np.linspace(0, 1, 200):
        xt = np.array([i, j])
        results_coords.append(xt)
        label = knn(X, Y, xt.reshape(2,1), k)
        results_labels.append(label)

results_coords = np.array(results_coords)
plt.figure(figsize=(8, 6))
plt.scatter(results_coords[:, 0], results_coords[:, 1], c=results_labels, cmap='coolwarm',alpha=1,s=15,marker="s")
plt.scatter(X[:, 0], X[:, 1], c=Y, cmap='seismic', marker='o')
plt.title('KNN')
plt.xlabel('Feature X')
plt.ylabel('Feature Y')
plt.grid(True)
plt.show()





k_values = range(1, 1 + 2 * 9, 2)
fig, axes = plt.subplots(3, 3, figsize=(15, 12))

for ax, k in zip(axes.flatten(), k_values):
    results_coords = []
    results_labels = []
    for i in np.linspace(0, 1, 200):
        for j in np.linspace(0, 1, 200):
            xt = np.array([i, j])
            results_coords.append(xt)
            label = knn(X, Y, xt.reshape(2, 1), k)
            results_labels.append(label)

    results_coords = np.array(results_coords)
    ax.scatter(results_coords[:, 0], results_coords[:, 1], c=results_labels, cmap='coolwarm', alpha=1, s=15, marker="s")
    ax.scatter(X[:, 0], X[:, 1], c=Y, cmap='seismic', marker='o')
    ax.set_title(f'KNN com k={k}')
    ax.set_xlabel('Feature X')
    ax.set_ylabel('Feature Y')
    ax.grid(True)

plt.tight_layout()
plt.show()














def pdfnvar(x, m, K, n=2):
    x = np.asarray(x).reshape(-1)  # Garante que x é um vetor 1D
    m = np.asarray(m).reshape(-1)  # Garante que m é um vetor 1D
    diff = x - m
    exponent = -0.5 * np.dot(diff.T, np.linalg.solve(K, diff))  # Usa np.linalg.solve para evitar problemas
    denominator = np.sqrt((2 * np.pi) ** n * np.linalg.det(K))
    return (1 / denominator) * np.exp(exponent)






def knn_dist(X, Y, xt, k , h=2):
    dist = (((X.T-xt).T)**2).sum(axis=1)
    n = X.shape[1]
    K = h*np.eye(n)
    sumk = 0
    for datapoint,label in zip(X[dist.argsort()[:k]],labels[dist.argsort()[:k]]):
        sumk += label * pdfnvar(datapoint, xt, K, n)
    pred = np.sign(sumk)
    return pred


k=3
h=0.1
results_coords = []
results_labels = []
for i in np.linspace(0, 1, 200):
    for j in np.linspace(0, 1, 200):
        xt = np.array([i, j])
        results_coords.append(xt)
        label = knn_dist(X, Y, xt.reshape(2,1), k, h=h)
        results_labels.append(label)

results_coords = np.array(results_coords)
plt.figure(figsize=(8, 6))
plt.scatter(results_coords[:, 0], results_coords[:, 1], c=results_labels, cmap='coolwarm',alpha=1,s=15,marker="s")
plt.scatter(X[:, 0], X[:, 1], c=Y, cmap='seismic', marker='o')
plt.title(f'KNN com k={k} e h={2}')
plt.xlabel('Feature X')
plt.ylabel('Feature Y')
plt.grid(True)
plt.show()


fig, axes = plt.subplots(3, 3, figsize=(12, 12))  

k_values = range(3, 21, 2) 
h = 0.05

for ax, k in zip(axes.ravel(), k_values):  
    results_coords = []
    results_labels = []

    for i in np.linspace(0, 1, 100):
        for j in np.linspace(0, 1, 100):
            xt = np.array([i, j])
            results_coords.append(xt)
            label = knn_dist(X, Y, xt.reshape(2, 1), k, h =h)
            results_labels.append(label)

    results_coords = np.array(results_coords)
    ax.scatter(results_coords[:, 0], results_coords[:, 1], c=results_labels, cmap='coolwarm', alpha=0.7, s=50, marker=".")
    ax.scatter(X[:, 0], X[:, 1], c=Y, cmap='bwr', marker='o', edgecolors='black')
    ax.set_title(f'KNN com k={k}')
    ax.set_xlabel('Feature X')
    ax.set_ylabel('Feature Y')
    ax.grid(True)

plt.tight_layout()
plt.show()


fig, axes = plt.subplots(3, 3, figsize=(12, 12))

h_values = np.logspace(-4, 1, 9)
k = 10  

for ax, h in zip(axes.ravel(), h_values):
    results_coords = []
    results_labels = []

    for i in np.linspace(0, 1, 100):
        for j in np.linspace(0, 1, 100):
            xt = np.array([i, j])
            results_coords.append(xt)
            label = knn_dist(X, Y, xt.reshape(2, 1), k, h=h)
            results_labels.append(label)

    results_coords = np.array(results_coords)
    ax.scatter(results_coords[:, 0], results_coords[:, 1], c=results_labels, cmap='coolwarm', alpha=0.7, s=50, marker=".")
    ax.scatter(X[:, 0], X[:, 1], c=Y, cmap='bwr', marker='o', edgecolors='black')
    ax.set_title(f'KNN com k=10 e h={h:.4f}')
    ax.set_xlabel('Feature X')
    ax.set_ylabel('Feature Y')
    ax.grid(True)

plt.tight_layout()
plt.show()






