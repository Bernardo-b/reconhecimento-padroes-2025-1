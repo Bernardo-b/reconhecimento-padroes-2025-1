{
 "cells": [
  {
   "cell_type": "markdown",
   "metadata": {
    "vscode": {
     "languageId": "plaintext"
    }
   },
   "source": [
    "# Lista de Exercícios - Adaline e Perceptron"
   ]
  },
  {
   "cell_type": "markdown",
   "metadata": {},
   "source": [
    "## Exercício 1"
   ]
  },
  {
   "cell_type": "markdown",
   "metadata": {},
   "source": [
    "Importação dos pacotes de do dataset. Teve que ser usado openML pois ele foi excluido do SKLearn por questões éticas de usar variáveis relacionadas à raça."
   ]
  },
  {
   "cell_type": "code",
   "execution_count": 59,
   "metadata": {},
   "outputs": [],
   "source": [
    "import numpy as np\n",
    "import pandas as pd\n",
    "from sklearn.model_selection import train_test_split\n",
    "from sklearn.metrics import mean_squared_error\n",
    "import matplotlib.pyplot as plt\n",
    "from sklearn.datasets import fetch_openml\n",
    "from sklearn.metrics import r2_score\n",
    "\n",
    "# Baixar o dataset do OpenML\n",
    "boston = fetch_openml(name=\"boston\", version=1, as_frame=True)\n",
    "\n",
    "# Dados e alvo\n",
    "X = boston.data\n",
    "y = boston.target\n",
    "\n"
   ]
  },
  {
   "cell_type": "markdown",
   "metadata": {},
   "source": [
    "Verificação de nulos e dos dtypes"
   ]
  },
  {
   "cell_type": "code",
   "execution_count": 60,
   "metadata": {},
   "outputs": [
    {
     "data": {
      "text/plain": [
       "CRIM       0\n",
       "ZN         0\n",
       "INDUS      0\n",
       "CHAS       0\n",
       "NOX        0\n",
       "RM         0\n",
       "AGE        0\n",
       "DIS        0\n",
       "RAD        0\n",
       "TAX        0\n",
       "PTRATIO    0\n",
       "B          0\n",
       "LSTAT      0\n",
       "dtype: int64"
      ]
     },
     "execution_count": 60,
     "metadata": {},
     "output_type": "execute_result"
    }
   ],
   "source": [
    "X.isna().sum()"
   ]
  },
  {
   "cell_type": "code",
   "execution_count": 34,
   "metadata": {},
   "outputs": [
    {
     "data": {
      "text/plain": [
       "CRIM        float64\n",
       "ZN          float64\n",
       "INDUS       float64\n",
       "CHAS       category\n",
       "NOX         float64\n",
       "RM          float64\n",
       "AGE         float64\n",
       "DIS         float64\n",
       "RAD        category\n",
       "TAX         float64\n",
       "PTRATIO     float64\n",
       "B           float64\n",
       "LSTAT       float64\n",
       "dtype: object"
      ]
     },
     "execution_count": 34,
     "metadata": {},
     "output_type": "execute_result"
    }
   ],
   "source": [
    "X.dtypes"
   ]
  },
  {
   "cell_type": "code",
   "execution_count": 35,
   "metadata": {},
   "outputs": [
    {
     "data": {
      "text/plain": [
       "CRIM       504\n",
       "ZN          26\n",
       "INDUS       76\n",
       "CHAS         2\n",
       "NOX         81\n",
       "RM         446\n",
       "AGE        356\n",
       "DIS        412\n",
       "RAD          9\n",
       "TAX         66\n",
       "PTRATIO     46\n",
       "B          357\n",
       "LSTAT      455\n",
       "dtype: int64"
      ]
     },
     "execution_count": 35,
     "metadata": {},
     "output_type": "execute_result"
    }
   ],
   "source": [
    "X.nunique()"
   ]
  },
  {
   "cell_type": "code",
   "execution_count": 37,
   "metadata": {},
   "outputs": [
    {
     "data": {
      "text/plain": [
       "['1', '2', '3', '5', '4', '8', '6', '7', '24']\n",
       "Categories (9, object): ['1', '2', '24', '3', ..., '5', '6', '7', '8']"
      ]
     },
     "execution_count": 37,
     "metadata": {},
     "output_type": "execute_result"
    }
   ],
   "source": [
    "X.RAD.unique()"
   ]
  },
  {
   "cell_type": "markdown",
   "metadata": {},
   "source": [
    "Sa colunas CHAS e RAD são as unicas duas categóricas. Quando analisamos os atributos temos o seguinte:"
   ]
  },
  {
   "cell_type": "markdown",
   "metadata": {},
   "source": [
    "- CRIM - per capita crime rate by town\n",
    "- ZN - proportion of residential land zoned for lots over 25,000 sq.ft.\n",
    "- INDUS - proportion of non-retail business acres per town.\n",
    "- CHAS - Charles River dummy variable (1 if tract bounds river; 0 otherwise)\n",
    "- NOX - nitric oxides concentration (parts per 10 million)\n",
    "- RM - average number of rooms per dwelling\n",
    "- AGE - proportion of owner-occupied units built prior to 1940\n",
    "- DIS - weighted distances to five Boston employment centres\n",
    "- RAD - index of accessibility to radial highways\n",
    "- TAX - full-value property-tax rate per $10,000\n",
    "- PTRATIO - pupil-teacher ratio by town\n",
    "- B - 1000(Bk - 0.63)^2 where Bk is the proportion of blacks by town\n",
    "- LSTAT - % lower status of the population\n",
    "- MEDV - Median value of owner-occupied homes in $1000's"
   ]
  },
  {
   "cell_type": "markdown",
   "metadata": {},
   "source": [
    "CHAS é uma variável binária, então pode ser transformada em numérica. RAD é uma variável numérica de indice de acessibilidade. Ela representa um indice em que mais alto, maior a acessibilidade. Por isso acho que também faz sentido transformar ela em numérica diretamente."
   ]
  },
  {
   "cell_type": "code",
   "execution_count": 48,
   "metadata": {},
   "outputs": [],
   "source": [
    "X = X.astype(np.float64).values"
   ]
  },
  {
   "cell_type": "markdown",
   "metadata": {},
   "source": [
    "Divisão de treino-teste, treinamento usando pseudoinversa e inferência"
   ]
  },
  {
   "cell_type": "code",
   "execution_count": null,
   "metadata": {},
   "outputs": [],
   "source": [
    "X_train, X_test, y_train, y_test = train_test_split(X, y, test_size=0.2, random_state=42)\n",
    "\n",
    "\n",
    "X_train_bias = np.hstack([X_train, np.ones((X_train.shape[0], 1))])\n",
    "X_test_bias = np.hstack([X_test, np.ones((X_test.shape[0], 1))])\n",
    "\n",
    "w = np.linalg.pinv(X_train_bias) @ y_train\n",
    "y_pred = X_test_bias @ w"
   ]
  },
  {
   "cell_type": "markdown",
   "metadata": {},
   "source": [
    "Resultados"
   ]
  },
  {
   "cell_type": "code",
   "execution_count": 58,
   "metadata": {},
   "outputs": [
    {
     "name": "stdout",
     "output_type": "stream",
     "text": [
      "MSE no conjunto de teste: 24.29\n",
      "RMSE no conjunto de teste: 4.93\n",
      "R² no conjunto de teste: 0.6688\n"
     ]
    }
   ],
   "source": [
    "mse = mean_squared_error(y_test, y_pred)\n",
    "rmse = np.sqrt(mse)\n",
    "r2 = r2_score(y_test, y_pred)\n",
    "\n",
    "print(f\"MSE no conjunto de teste: {mse:.2f}\")\n",
    "print(f\"RMSE no conjunto de teste: {rmse:.2f}\")\n",
    "print(f\"R² no conjunto de teste: {r2:.4f}\")"
   ]
  },
  {
   "cell_type": "code",
   "execution_count": 55,
   "metadata": {},
   "outputs": [
    {
     "data": {
      "image/png": "[encoded data removed]",
      "text/plain": [
       "<Figure size 640x480 with 1 Axes>"
      ]
     },
     "metadata": {},
     "output_type": "display_data"
    }
   ],
   "source": [
    "plt.scatter(y_test, y_pred, alpha=0.7)\n",
    "plt.xlabel(\"Preço real (y_test)\")\n",
    "plt.ylabel(\"Preço previsto (y_pred)\")\n",
    "plt.title(\"Adaline - Preço de casas em Boston\")\n",
    "plt.grid(True)\n",
    "plt.plot([min(y_test), max(y_test)], [min(y_test), max(y_test)], 'r--')  # linha ideal\n",
    "plt.show()\n"
   ]
  },
  {
   "cell_type": "markdown",
   "metadata": {},
   "source": [
    "## Exercício 2"
   ]
  },
  {
   "cell_type": "markdown",
   "metadata": {},
   "source": [
    "Load do dataset"
   ]
  },
  {
   "cell_type": "code",
   "execution_count": 61,
   "metadata": {},
   "outputs": [],
   "source": [
    "import numpy as np\n",
    "from sklearn.datasets import load_breast_cancer\n",
    "from sklearn.model_selection import KFold\n",
    "from sklearn.metrics import accuracy_score\n",
    "from tqdm import tqdm\n",
    "\n",
    "data = load_breast_cancer()\n",
    "X = data.data\n",
    "y = data.target"
   ]
  },
  {
   "cell_type": "markdown",
   "metadata": {},
   "source": []
  },
  {
   "cell_type": "code",
   "execution_count": 63,
   "metadata": {},
   "outputs": [],
   "source": [
    "\n",
    "X = np.hstack([X, np.ones((X.shape[0], 1))])\n",
    "\n",
    "kf = KFold(n_splits=10, shuffle=True, random_state=42)\n"
   ]
  },
  {
   "cell_type": "code",
   "execution_count": 94,
   "metadata": {},
   "outputs": [],
   "source": [
    "taxa_aprendizado = 0.01\n",
    "epocas = 500\n",
    "\n",
    "# Arrays para armazenar métricas por época\n",
    "medias_por_epoca = np.zeros(epocas)\n",
    "desvios_por_epoca = np.zeros(epocas)\n",
    "\n",
    "acuracias = []\n",
    "\n",
    "for train_index, test_index in kf.split(X):\n",
    "    X_train, X_test = X[train_index], X[test_index]\n",
    "    y_train, y_test = y[train_index], y[test_index]\n",
    "    # criação dos pesos\n",
    "    w = np.zeros(X_train.shape[1])\n",
    "    acuracias_fold = []\n",
    "    \n",
    "    # loop de treinamento\n",
    "    for epoca in range(epocas):\n",
    "        for i in range(X_train.shape[0]):\n",
    "            xi = X_train[i]\n",
    "            yi = y_train[i]\n",
    "\n",
    "            y_pred = 1 if np.dot(w, xi) >= 0 else 0\n",
    "            # backpropagation\n",
    "            if y_pred != yi:\n",
    "                w = w + taxa_aprendizado * (yi - y_pred) * xi\n",
    "        \n",
    "        # avaliar no fim da época\n",
    "        y_pred_test = np.where(np.dot(X_test, w) >= 0, 1, 0)\n",
    "        acuracia = accuracy_score(y_test, y_pred_test) * 100\n",
    "        acuracias_fold.append(acuracia)\n",
    "    \n",
    "    acuracias.append(acuracias_fold)\n"
   ]
  },
  {
   "cell_type": "code",
   "execution_count": 98,
   "metadata": {},
   "outputs": [
    {
     "data": {
      "text/html": [
       "<div>\n",
       "<style scoped>\n",
       "    .dataframe tbody tr th:only-of-type {\n",
       "        vertical-align: middle;\n",
       "    }\n",
       "\n",
       "    .dataframe tbody tr th {\n",
       "        vertical-align: top;\n",
       "    }\n",
       "\n",
       "    .dataframe thead th {\n",
       "        text-align: right;\n",
       "    }\n",
       "</style>\n",
       "<table border=\"1\" class=\"dataframe\">\n",
       "  <thead>\n",
       "    <tr style=\"text-align: right;\">\n",
       "      <th></th>\n",
       "      <th>Época</th>\n",
       "      <th>Fold 1</th>\n",
       "      <th>Fold 2</th>\n",
       "      <th>Fold 3</th>\n",
       "      <th>Fold 4</th>\n",
       "      <th>Fold 5</th>\n",
       "      <th>Fold 6</th>\n",
       "      <th>Fold 7</th>\n",
       "      <th>Fold 8</th>\n",
       "      <th>Fold 9</th>\n",
       "      <th>Fold 10</th>\n",
       "      <th>Média</th>\n",
       "      <th>Desvio Padrão</th>\n",
       "    </tr>\n",
       "  </thead>\n",
       "  <tbody>\n",
       "    <tr>\n",
       "      <th>480</th>\n",
       "      <td>481</td>\n",
       "      <td>82.46</td>\n",
       "      <td>91.23</td>\n",
       "      <td>92.98</td>\n",
       "      <td>70.18</td>\n",
       "      <td>80.70</td>\n",
       "      <td>87.72</td>\n",
       "      <td>84.21</td>\n",
       "      <td>82.46</td>\n",
       "      <td>91.23</td>\n",
       "      <td>91.07</td>\n",
       "      <td>85.42</td>\n",
       "      <td>6.60</td>\n",
       "    </tr>\n",
       "    <tr>\n",
       "      <th>481</th>\n",
       "      <td>482</td>\n",
       "      <td>92.98</td>\n",
       "      <td>85.96</td>\n",
       "      <td>92.98</td>\n",
       "      <td>92.98</td>\n",
       "      <td>80.70</td>\n",
       "      <td>87.72</td>\n",
       "      <td>84.21</td>\n",
       "      <td>84.21</td>\n",
       "      <td>91.23</td>\n",
       "      <td>73.21</td>\n",
       "      <td>86.62</td>\n",
       "      <td>6.09</td>\n",
       "    </tr>\n",
       "    <tr>\n",
       "      <th>482</th>\n",
       "      <td>483</td>\n",
       "      <td>82.46</td>\n",
       "      <td>87.72</td>\n",
       "      <td>94.74</td>\n",
       "      <td>91.23</td>\n",
       "      <td>82.46</td>\n",
       "      <td>85.96</td>\n",
       "      <td>94.74</td>\n",
       "      <td>84.21</td>\n",
       "      <td>84.21</td>\n",
       "      <td>91.07</td>\n",
       "      <td>87.88</td>\n",
       "      <td>4.53</td>\n",
       "    </tr>\n",
       "    <tr>\n",
       "      <th>483</th>\n",
       "      <td>484</td>\n",
       "      <td>92.98</td>\n",
       "      <td>85.96</td>\n",
       "      <td>92.98</td>\n",
       "      <td>91.23</td>\n",
       "      <td>66.67</td>\n",
       "      <td>89.47</td>\n",
       "      <td>92.98</td>\n",
       "      <td>85.96</td>\n",
       "      <td>91.23</td>\n",
       "      <td>91.07</td>\n",
       "      <td>88.05</td>\n",
       "      <td>7.55</td>\n",
       "    </tr>\n",
       "    <tr>\n",
       "      <th>484</th>\n",
       "      <td>485</td>\n",
       "      <td>94.74</td>\n",
       "      <td>87.72</td>\n",
       "      <td>92.98</td>\n",
       "      <td>91.23</td>\n",
       "      <td>82.46</td>\n",
       "      <td>87.72</td>\n",
       "      <td>84.21</td>\n",
       "      <td>85.96</td>\n",
       "      <td>84.21</td>\n",
       "      <td>91.07</td>\n",
       "      <td>88.23</td>\n",
       "      <td>3.92</td>\n",
       "    </tr>\n",
       "    <tr>\n",
       "      <th>485</th>\n",
       "      <td>486</td>\n",
       "      <td>98.25</td>\n",
       "      <td>91.23</td>\n",
       "      <td>94.74</td>\n",
       "      <td>92.98</td>\n",
       "      <td>66.67</td>\n",
       "      <td>87.72</td>\n",
       "      <td>84.21</td>\n",
       "      <td>82.46</td>\n",
       "      <td>91.23</td>\n",
       "      <td>73.21</td>\n",
       "      <td>86.27</td>\n",
       "      <td>9.41</td>\n",
       "    </tr>\n",
       "    <tr>\n",
       "      <th>486</th>\n",
       "      <td>487</td>\n",
       "      <td>82.46</td>\n",
       "      <td>91.23</td>\n",
       "      <td>92.98</td>\n",
       "      <td>89.47</td>\n",
       "      <td>82.46</td>\n",
       "      <td>87.72</td>\n",
       "      <td>84.21</td>\n",
       "      <td>87.72</td>\n",
       "      <td>84.21</td>\n",
       "      <td>91.07</td>\n",
       "      <td>87.35</td>\n",
       "      <td>3.65</td>\n",
       "    </tr>\n",
       "    <tr>\n",
       "      <th>487</th>\n",
       "      <td>488</td>\n",
       "      <td>82.46</td>\n",
       "      <td>85.96</td>\n",
       "      <td>94.74</td>\n",
       "      <td>89.47</td>\n",
       "      <td>66.67</td>\n",
       "      <td>87.72</td>\n",
       "      <td>84.21</td>\n",
       "      <td>84.21</td>\n",
       "      <td>91.23</td>\n",
       "      <td>73.21</td>\n",
       "      <td>83.99</td>\n",
       "      <td>7.97</td>\n",
       "    </tr>\n",
       "    <tr>\n",
       "      <th>488</th>\n",
       "      <td>489</td>\n",
       "      <td>92.98</td>\n",
       "      <td>89.47</td>\n",
       "      <td>94.74</td>\n",
       "      <td>70.18</td>\n",
       "      <td>82.46</td>\n",
       "      <td>87.72</td>\n",
       "      <td>84.21</td>\n",
       "      <td>85.96</td>\n",
       "      <td>91.23</td>\n",
       "      <td>91.07</td>\n",
       "      <td>87.00</td>\n",
       "      <td>6.70</td>\n",
       "    </tr>\n",
       "    <tr>\n",
       "      <th>489</th>\n",
       "      <td>490</td>\n",
       "      <td>94.74</td>\n",
       "      <td>91.23</td>\n",
       "      <td>94.74</td>\n",
       "      <td>70.18</td>\n",
       "      <td>84.21</td>\n",
       "      <td>87.72</td>\n",
       "      <td>92.98</td>\n",
       "      <td>85.96</td>\n",
       "      <td>84.21</td>\n",
       "      <td>73.21</td>\n",
       "      <td>85.92</td>\n",
       "      <td>8.07</td>\n",
       "    </tr>\n",
       "    <tr>\n",
       "      <th>490</th>\n",
       "      <td>491</td>\n",
       "      <td>98.25</td>\n",
       "      <td>87.72</td>\n",
       "      <td>94.74</td>\n",
       "      <td>92.98</td>\n",
       "      <td>80.70</td>\n",
       "      <td>85.96</td>\n",
       "      <td>84.21</td>\n",
       "      <td>84.21</td>\n",
       "      <td>91.23</td>\n",
       "      <td>73.21</td>\n",
       "      <td>87.32</td>\n",
       "      <td>6.97</td>\n",
       "    </tr>\n",
       "    <tr>\n",
       "      <th>491</th>\n",
       "      <td>492</td>\n",
       "      <td>82.46</td>\n",
       "      <td>89.47</td>\n",
       "      <td>94.74</td>\n",
       "      <td>92.98</td>\n",
       "      <td>80.70</td>\n",
       "      <td>87.72</td>\n",
       "      <td>84.21</td>\n",
       "      <td>84.21</td>\n",
       "      <td>84.21</td>\n",
       "      <td>91.07</td>\n",
       "      <td>87.18</td>\n",
       "      <td>4.50</td>\n",
       "    </tr>\n",
       "    <tr>\n",
       "      <th>492</th>\n",
       "      <td>493</td>\n",
       "      <td>98.25</td>\n",
       "      <td>91.23</td>\n",
       "      <td>92.98</td>\n",
       "      <td>89.47</td>\n",
       "      <td>73.68</td>\n",
       "      <td>87.72</td>\n",
       "      <td>84.21</td>\n",
       "      <td>84.21</td>\n",
       "      <td>91.23</td>\n",
       "      <td>73.21</td>\n",
       "      <td>86.62</td>\n",
       "      <td>7.66</td>\n",
       "    </tr>\n",
       "    <tr>\n",
       "      <th>493</th>\n",
       "      <td>494</td>\n",
       "      <td>82.46</td>\n",
       "      <td>85.96</td>\n",
       "      <td>92.98</td>\n",
       "      <td>91.23</td>\n",
       "      <td>80.70</td>\n",
       "      <td>87.72</td>\n",
       "      <td>84.21</td>\n",
       "      <td>84.21</td>\n",
       "      <td>92.98</td>\n",
       "      <td>91.07</td>\n",
       "      <td>87.35</td>\n",
       "      <td>4.27</td>\n",
       "    </tr>\n",
       "    <tr>\n",
       "      <th>494</th>\n",
       "      <td>495</td>\n",
       "      <td>82.46</td>\n",
       "      <td>87.72</td>\n",
       "      <td>94.74</td>\n",
       "      <td>92.98</td>\n",
       "      <td>73.68</td>\n",
       "      <td>87.72</td>\n",
       "      <td>92.98</td>\n",
       "      <td>84.21</td>\n",
       "      <td>84.21</td>\n",
       "      <td>89.29</td>\n",
       "      <td>87.00</td>\n",
       "      <td>5.93</td>\n",
       "    </tr>\n",
       "    <tr>\n",
       "      <th>495</th>\n",
       "      <td>496</td>\n",
       "      <td>92.98</td>\n",
       "      <td>87.72</td>\n",
       "      <td>92.98</td>\n",
       "      <td>89.47</td>\n",
       "      <td>80.70</td>\n",
       "      <td>87.72</td>\n",
       "      <td>85.96</td>\n",
       "      <td>84.21</td>\n",
       "      <td>91.23</td>\n",
       "      <td>73.21</td>\n",
       "      <td>86.62</td>\n",
       "      <td>5.78</td>\n",
       "    </tr>\n",
       "    <tr>\n",
       "      <th>496</th>\n",
       "      <td>497</td>\n",
       "      <td>82.46</td>\n",
       "      <td>85.96</td>\n",
       "      <td>92.98</td>\n",
       "      <td>91.23</td>\n",
       "      <td>82.46</td>\n",
       "      <td>85.96</td>\n",
       "      <td>87.72</td>\n",
       "      <td>84.21</td>\n",
       "      <td>91.23</td>\n",
       "      <td>91.07</td>\n",
       "      <td>87.53</td>\n",
       "      <td>3.70</td>\n",
       "    </tr>\n",
       "    <tr>\n",
       "      <th>497</th>\n",
       "      <td>498</td>\n",
       "      <td>92.98</td>\n",
       "      <td>87.72</td>\n",
       "      <td>94.74</td>\n",
       "      <td>92.98</td>\n",
       "      <td>82.46</td>\n",
       "      <td>87.72</td>\n",
       "      <td>84.21</td>\n",
       "      <td>87.72</td>\n",
       "      <td>84.21</td>\n",
       "      <td>91.07</td>\n",
       "      <td>88.58</td>\n",
       "      <td>4.01</td>\n",
       "    </tr>\n",
       "    <tr>\n",
       "      <th>498</th>\n",
       "      <td>499</td>\n",
       "      <td>98.25</td>\n",
       "      <td>89.47</td>\n",
       "      <td>91.23</td>\n",
       "      <td>87.72</td>\n",
       "      <td>80.70</td>\n",
       "      <td>87.72</td>\n",
       "      <td>84.21</td>\n",
       "      <td>84.21</td>\n",
       "      <td>91.23</td>\n",
       "      <td>73.21</td>\n",
       "      <td>86.80</td>\n",
       "      <td>6.44</td>\n",
       "    </tr>\n",
       "    <tr>\n",
       "      <th>499</th>\n",
       "      <td>500</td>\n",
       "      <td>82.46</td>\n",
       "      <td>91.23</td>\n",
       "      <td>94.74</td>\n",
       "      <td>70.18</td>\n",
       "      <td>82.46</td>\n",
       "      <td>87.72</td>\n",
       "      <td>89.47</td>\n",
       "      <td>84.21</td>\n",
       "      <td>91.23</td>\n",
       "      <td>91.07</td>\n",
       "      <td>86.48</td>\n",
       "      <td>6.69</td>\n",
       "    </tr>\n",
       "  </tbody>\n",
       "</table>\n",
       "</div>"
      ],
      "text/plain": [
       "     Época  Fold 1  Fold 2  Fold 3  Fold 4  Fold 5  Fold 6  Fold 7  Fold 8  \\\n",
       "480    481   82.46   91.23   92.98   70.18   80.70   87.72   84.21   82.46   \n",
       "481    482   92.98   85.96   92.98   92.98   80.70   87.72   84.21   84.21   \n",
       "482    483   82.46   87.72   94.74   91.23   82.46   85.96   94.74   84.21   \n",
       "483    484   92.98   85.96   92.98   91.23   66.67   89.47   92.98   85.96   \n",
       "484    485   94.74   87.72   92.98   91.23   82.46   87.72   84.21   85.96   \n",
       "485    486   98.25   91.23   94.74   92.98   66.67   87.72   84.21   82.46   \n",
       "486    487   82.46   91.23   92.98   89.47   82.46   87.72   84.21   87.72   \n",
       "487    488   82.46   85.96   94.74   89.47   66.67   87.72   84.21   84.21   \n",
       "488    489   92.98   89.47   94.74   70.18   82.46   87.72   84.21   85.96   \n",
       "489    490   94.74   91.23   94.74   70.18   84.21   87.72   92.98   85.96   \n",
       "490    491   98.25   87.72   94.74   92.98   80.70   85.96   84.21   84.21   \n",
       "491    492   82.46   89.47   94.74   92.98   80.70   87.72   84.21   84.21   \n",
       "492    493   98.25   91.23   92.98   89.47   73.68   87.72   84.21   84.21   \n",
       "493    494   82.46   85.96   92.98   91.23   80.70   87.72   84.21   84.21   \n",
       "494    495   82.46   87.72   94.74   92.98   73.68   87.72   92.98   84.21   \n",
       "495    496   92.98   87.72   92.98   89.47   80.70   87.72   85.96   84.21   \n",
       "496    497   82.46   85.96   92.98   91.23   82.46   85.96   87.72   84.21   \n",
       "497    498   92.98   87.72   94.74   92.98   82.46   87.72   84.21   87.72   \n",
       "498    499   98.25   89.47   91.23   87.72   80.70   87.72   84.21   84.21   \n",
       "499    500   82.46   91.23   94.74   70.18   82.46   87.72   89.47   84.21   \n",
       "\n",
       "     Fold 9  Fold 10  Média  Desvio Padrão  \n",
       "480   91.23    91.07  85.42           6.60  \n",
       "481   91.23    73.21  86.62           6.09  \n",
       "482   84.21    91.07  87.88           4.53  \n",
       "483   91.23    91.07  88.05           7.55  \n",
       "484   84.21    91.07  88.23           3.92  \n",
       "485   91.23    73.21  86.27           9.41  \n",
       "486   84.21    91.07  87.35           3.65  \n",
       "487   91.23    73.21  83.99           7.97  \n",
       "488   91.23    91.07  87.00           6.70  \n",
       "489   84.21    73.21  85.92           8.07  \n",
       "490   91.23    73.21  87.32           6.97  \n",
       "491   84.21    91.07  87.18           4.50  \n",
       "492   91.23    73.21  86.62           7.66  \n",
       "493   92.98    91.07  87.35           4.27  \n",
       "494   84.21    89.29  87.00           5.93  \n",
       "495   91.23    73.21  86.62           5.78  \n",
       "496   91.23    91.07  87.53           3.70  \n",
       "497   84.21    91.07  88.58           4.01  \n",
       "498   91.23    73.21  86.80           6.44  \n",
       "499   91.23    91.07  86.48           6.69  "
      ]
     },
     "metadata": {},
     "output_type": "display_data"
    }
   ],
   "source": [
    "acuracias_array = np.array(acuracias)\n",
    "\n",
    "# Calcular médias e desvios padrão para cada época\n",
    "medias_por_epoca = np.mean(acuracias_array, axis=0)\n",
    "desvios_por_epoca = np.std(acuracias_array, axis=0)\n",
    "\n",
    "# Criar DataFrame com resultados\n",
    "df_resultados = pd.DataFrame([{\n",
    "    'Época': e + 1,\n",
    "    **{f'Fold {i+1}': acuracias_array[i][e] for i in range(len(acuracias))},\n",
    "    'Média': medias_por_epoca[e],\n",
    "    'Desvio Padrão': desvios_por_epoca[e]\n",
    "} for e in range(epocas)])\n",
    "\n",
    "# Configurar formato de exibição dos números\n",
    "pd.set_option('display.float_format', '{:.2f}'.format)\n",
    "\n",
    "# Exibir o DataFrame\n",
    "display(df_resultados.iloc[-20:])"
   ]
  },
  {
   "cell_type": "code",
   "execution_count": 96,
   "metadata": {},
   "outputs": [
    {
     "data": {
      "image/png": "[encoded data removed]",
      "text/plain": [
       "<Figure size 1000x600 with 1 Axes>"
      ]
     },
     "metadata": {},
     "output_type": "display_data"
    }
   ],
   "source": [
    "# Criar coluna de grupo (cada grupo representa 10 épocas)\n",
    "df_resultados['Grupo'] = (df_resultados['Época'] - 1) // 10\n",
    "\n",
    "# Calcular médias e desvios por grupo\n",
    "df_agrupado = df_resultados.groupby('Grupo').agg({\n",
    "    'Época': 'mean',\n",
    "    'Média': 'mean',\n",
    "    'Desvio Padrão': 'mean'\n",
    "}).reset_index()\n",
    "\n",
    "# Plotar o gráfico com barras de erro usando dados agrupados\n",
    "plt.figure(figsize=(10, 6))\n",
    "plt.errorbar(df_agrupado['Época'], \n",
    "             df_agrupado['Média'], \n",
    "             yerr=df_agrupado['Desvio Padrão'],\n",
    "             fmt='o-', capsize=5, capthick=1, elinewidth=1)\n",
    "\n",
    "plt.xlabel('Época')\n",
    "plt.ylabel('Acurácia (%)')\n",
    "plt.title('Evolução da Acurácia por Época com Desvio Padrão\\n(Média a cada 10 épocas)')\n",
    "plt.grid(True)\n",
    "plt.show()"
   ]
  },
  {
   "cell_type": "code",
   "execution_count": 100,
   "metadata": {},
   "outputs": [
    {
     "data": {
      "text/plain": [
       "np.float64(91.73872180451127)"
      ]
     },
     "execution_count": 100,
     "metadata": {},
     "output_type": "execute_result"
    }
   ],
   "source": [
    "df_resultados['Média'].max()"
   ]
  },
  {
   "cell_type": "code",
   "execution_count": 102,
   "metadata": {},
   "outputs": [
    {
     "data": {
      "text/plain": [
       "np.float64(86.47556390977444)"
      ]
     },
     "execution_count": 102,
     "metadata": {},
     "output_type": "execute_result"
    }
   ],
   "source": [
    "df_resultados['Média'].iloc[-1]"
   ]
  },
  {
   "cell_type": "markdown",
   "metadata": {},
   "source": [
    "É possivel perceber que a partir de 300 épocas a acurácia é estabilizada. A acurácia média nas ultimas épocas gira em torno de 87%. Comparado com o outro exercício do mesmo problema que foi resolvido usando RBF com K means:\n",
    "RBF-Kmeans: 95.57%\n",
    "Perceptron: 86.47% (ultima acurácia), 91.73% (máxima acurácia)\n",
    "\n",
    "Visto que o RBF é básicamente um perceptron com uma camada escondida que fornece mais informação sobre o problema informando a média de distância de cada ponto com cada centro de clsuter no Kmeans, faz sentido que o RBF tenha um resultado melhor."
   ]
  }
 ],
 "metadata": {
  "kernelspec": {
   "display_name": "Python 3 (ipykernel)",
   "language": "python",
   "name": "python3"
  },
  "language_info": {
   "codemirror_mode": {
    "name": "ipython",
    "version": 3
   },
   "file_extension": ".py",
   "mimetype": "text/x-python",
   "name": "python",
   "nbconvert_exporter": "python",
   "pygments_lexer": "ipython3",
   "version": "3.12.3"
  }
 },
 "nbformat": 4,
 "nbformat_minor": 4
}
